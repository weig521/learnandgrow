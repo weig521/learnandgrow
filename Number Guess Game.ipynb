{
 "cells": [
  {
   "cell_type": "code",
   "execution_count": 14,
   "id": "aa750872",
   "metadata": {},
   "outputs": [
    {
     "name": "stdout",
     "output_type": "stream",
     "text": [
      "Number guessing game, the integer number is between 0 and 100, you have max 10 chances.\n",
      "Please enter your guess.1\n",
      "Too small.\n",
      "Please enter your guess.2\n",
      "Too small.\n",
      "Please enter your guess.3\n",
      "Too small.\n",
      "Please enter your guess.4\n",
      "Too small.\n",
      "Please enter your guess.5\n",
      "Too small.\n",
      "Please enter your guess.6\n",
      "Too small.\n",
      "Please enter your guess.7\n",
      "Too small.\n",
      "Please enter your guess.8\n",
      "Too small.\n",
      "Please enter your guess.9\n",
      "Too small.\n",
      "Please enter your guess.10\n",
      "Too small.\n",
      "Sorry, you tried 10 times already. The right number is 50.\n"
     ]
    }
   ],
   "source": [
    "# import the randint from random library for random integer\n",
    "from random import randint\n",
    "\n",
    "# the game could change, they can guess between and two numbers 0/100, 200/2000, we just need to change the varialbe value here\n",
    "lower_bound = 0\n",
    "upper_bound = 100\n",
    "\n",
    "# the players have max 10 chances to guess, again, you can set it to 5 or 7 or what you want \n",
    "chances = 10\n",
    "\n",
    "# random a integer with the randint function and assign it to target, compare the player input with target, if too big, give \n",
    "# players clue too big and vice versa. if input = target, print congrats message.\n",
    "target = randint(0,100)\n",
    "\n",
    "# Game introduction\n",
    "print(f\"Number guessing game, the integer number is between {lower_bound} and {upper_bound}, you have max {chances} chances.\")\n",
    "\n",
    "# first we initial the attempt as 0, while loop \n",
    "attempts = 0\n",
    "while True:\n",
    "    num = int(input(f\"Please enter your guess.\"))\n",
    "    if num > target:\n",
    "        print(f\"Too big.\")\n",
    "    elif num < target:\n",
    "        print(f\"Too small.\")\n",
    "    else:\n",
    "        print(f\"Congrats, {num} is the right number.\")\n",
    "        break\n",
    "    attempts += 1\n",
    "    if attempts == 10:\n",
    "        print(f\"Sorry, you tried {attempts} times already. The right number is {target}.\")\n",
    "        break\n",
    "    "
   ]
  },
  {
   "cell_type": "code",
   "execution_count": null,
   "id": "1af16257",
   "metadata": {},
   "outputs": [],
   "source": []
  }
 ],
 "metadata": {
  "kernelspec": {
   "display_name": "Python 3 (ipykernel)",
   "language": "python",
   "name": "python3"
  },
  "language_info": {
   "codemirror_mode": {
    "name": "ipython",
    "version": 3
   },
   "file_extension": ".py",
   "mimetype": "text/x-python",
   "name": "python",
   "nbconvert_exporter": "python",
   "pygments_lexer": "ipython3",
   "version": "3.11.4"
  }
 },
 "nbformat": 4,
 "nbformat_minor": 5
}
